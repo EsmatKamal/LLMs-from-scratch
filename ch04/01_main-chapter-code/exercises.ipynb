{
 "cells": [
  {
   "cell_type": "code",
   "id": "initial_id",
   "metadata": {
    "collapsed": true,
    "ExecuteTime": {
     "end_time": "2025-04-16T01:14:45.124763Z",
     "start_time": "2025-04-16T01:14:45.120538Z"
    }
   },
   "source": "#Exercise 4.1",
   "outputs": [],
   "execution_count": 2
  },
  {
   "metadata": {
    "ExecuteTime": {
     "end_time": "2025-04-16T01:14:45.331880Z",
     "start_time": "2025-04-16T01:14:45.325513Z"
    }
   },
   "cell_type": "code",
   "source": [
    "from importlib.metadata import version\n",
    "\n",
    "print(\"torch version:\", version(\"torch\"))"
   ],
   "id": "5fd8c67b1952b817",
   "outputs": [
    {
     "name": "stdout",
     "output_type": "stream",
     "text": [
      "torch version: 2.6.0\n"
     ]
    }
   ],
   "execution_count": 3
  },
  {
   "metadata": {
    "ExecuteTime": {
     "end_time": "2025-04-16T01:14:45.107362Z",
     "start_time": "2025-04-16T01:14:42.346455Z"
    }
   },
   "cell_type": "code",
   "source": [
    "import torch\n",
    "import torch.nn as nn\n",
    "\n",
    "def calculate_parameters(d_model, d_ff, num_heads):\n",
    "    \"\"\"\n",
    "    Calculate and compare parameters in feed forward and attention modules.\n",
    "    \"\"\"\n",
    "    # Multi-head attention parameters (Q, K, V projections + output projection)\n",
    "    attention_params = 4 * d_model * d_model\n",
    "\n",
    "    # Feed forward parameters (two linear layers)\n",
    "    feed_forward_params = d_model * d_ff + d_ff * d_model\n",
    "\n",
    "    print(f\"Multi-head attention parameters: {attention_params:,}\")\n",
    "    print(f\"Feed forward parameters: {feed_forward_params:,}\")\n",
    "    print(f\"Difference (FF - Attention): {feed_forward_params - attention_params:,}\")\n",
    "\n",
    "    if feed_forward_params > attention_params:\n",
    "        print(\"Feed forward has more parameters\")\n",
    "    else:\n",
    "        print(\"Attention has more parameters\")\n",
    "\n",
    "# Example usage for GPT-2 small (124M)\n",
    "calculate_parameters(d_model=768, d_ff=3072, num_heads=12)"
   ],
   "id": "5d67534f347ec6a6",
   "outputs": [
    {
     "name": "stdout",
     "output_type": "stream",
     "text": [
      "Multi-head attention parameters: 2,359,296\n",
      "Feed forward parameters: 4,718,592\n",
      "Difference (FF - Attention): 2,359,296\n",
      "Feed forward has more parameters\n"
     ]
    }
   ],
   "execution_count": 1
  },
  {
   "metadata": {},
   "cell_type": "code",
   "outputs": [],
   "execution_count": null,
   "source": "# EXERCISE 4.2",
   "id": "c07b214ef95d0b8a"
  },
  {
   "metadata": {
    "ExecuteTime": {
     "end_time": "2025-04-16T01:14:50.845949Z",
     "start_time": "2025-04-16T01:14:50.832801Z"
    }
   },
   "cell_type": "code",
   "source": [
    "import torch\n",
    "import torch.nn as nn\n",
    "\n",
    "# Configuration dictionaries for different model sizes\n",
    "GPT_CONFIG_124M = {\n",
    "    \"vocab_size\": 50257,\n",
    "    \"context_length\": 1024,\n",
    "    \"emb_dim\": 768,\n",
    "    \"n_heads\": 12,\n",
    "    \"n_layers\": 12,\n",
    "    \"drop_rate\": 0.1,\n",
    "    \"qkv_bias\": False\n",
    "}\n",
    "\n",
    "GPT_CONFIG_MEDIUM = {\n",
    "    \"vocab_size\": 50257,\n",
    "    \"context_length\": 1024,\n",
    "    \"emb_dim\": 1024,\n",
    "    \"n_heads\": 16,\n",
    "    \"n_layers\": 24,\n",
    "    \"drop_rate\": 0.1,\n",
    "    \"qkv_bias\": False\n",
    "}\n",
    "\n",
    "GPT_CONFIG_LARGE = {\n",
    "    \"vocab_size\": 50257,\n",
    "    \"context_length\": 1024,\n",
    "    \"emb_dim\": 1280,\n",
    "    \"n_heads\": 20,\n",
    "    \"n_layers\": 36,\n",
    "    \"drop_rate\": 0.1,\n",
    "    \"qkv_bias\": False\n",
    "}\n",
    "\n",
    "GPT_CONFIG_XL = {\n",
    "    \"vocab_size\": 50257,\n",
    "    \"context_length\": 1024,\n",
    "    \"emb_dim\": 1600,\n",
    "    \"n_heads\": 25,\n",
    "    \"n_layers\": 48,\n",
    "    \"drop_rate\": 0.1,\n",
    "    \"qkv_bias\": False\n",
    "}\n",
    "\n",
    "def calculate_gpt_parameters(config):\n",
    "    \"\"\"\n",
    "    Calculate total parameters for a GPT model based on configuration.\n",
    "    \"\"\"\n",
    "    # Embedding parameters\n",
    "    emb_params = config[\"vocab_size\"] * config[\"emb_dim\"] + config[\"context_length\"] * config[\"emb_dim\"]\n",
    "\n",
    "    # Transformer block parameters\n",
    "    d_model = config[\"emb_dim\"]\n",
    "    d_ff = 4 * d_model  # Standard feed-forward expansion factor\n",
    "    block_params = (4 * d_model * d_model) + (d_model * d_ff + d_ff * d_model)\n",
    "    total_block_params = config[\"n_layers\"] * block_params\n",
    "\n",
    "    # Output layer parameters\n",
    "    output_params = d_model * config[\"vocab_size\"]\n",
    "\n",
    "    total_params = emb_params + total_block_params + output_params\n",
    "    return total_params\n",
    "\n",
    "# Calculate and print parameters for each model\n",
    "print(f\"GPT-2 Small (124M): {calculate_gpt_parameters(GPT_CONFIG_124M):,} parameters\")\n",
    "print(f\"GPT-2 Medium: {calculate_gpt_parameters(GPT_CONFIG_MEDIUM):,} parameters\")\n",
    "print(f\"GPT-2 Large: {calculate_gpt_parameters(GPT_CONFIG_LARGE):,} parameters\")\n",
    "print(f\"GPT-2 XL: {calculate_gpt_parameters(GPT_CONFIG_XL):,} parameters\")"
   ],
   "id": "7495189f8f682aba",
   "outputs": [
    {
     "name": "stdout",
     "output_type": "stream",
     "text": [
      "GPT-2 Small (124M): 162,915,840 parameters\n",
      "GPT-2 Medium: 405,964,800 parameters\n",
      "GPT-2 Large: 837,757,440 parameters\n",
      "GPT-2 XL: 1,637,020,800 parameters\n"
     ]
    }
   ],
   "execution_count": 4
  },
  {
   "metadata": {
    "ExecuteTime": {
     "end_time": "2025-04-16T01:14:55.844320Z",
     "start_time": "2025-04-16T01:14:55.838849Z"
    }
   },
   "cell_type": "code",
   "source": "#EXERCISE 4.3",
   "id": "71c5421bb4eef5fc",
   "outputs": [],
   "execution_count": 5
  },
  {
   "metadata": {
    "ExecuteTime": {
     "end_time": "2025-04-16T01:14:58.842343Z",
     "start_time": "2025-04-16T01:14:57.773901Z"
    }
   },
   "cell_type": "code",
   "source": [
    "import torch\n",
    "import torch.nn as nn\n",
    "import torch.nn.functional as F\n",
    "\n",
    "class GPTModel(nn.Module):\n",
    "    def __init__(self, config):\n",
    "        super().__init__()\n",
    "        # Separate dropout rates\n",
    "        self.drop_embed = config.get(\"drop_embed\", 0.1)\n",
    "        self.drop_shortcut = config.get(\"drop_shortcut\", 0.1)\n",
    "        self.drop_attention = config.get(\"drop_attention\", 0.1)\n",
    "\n",
    "        # Update config with specific dropout rates\n",
    "        config.update({\n",
    "            \"drop_embed\": self.drop_embed,\n",
    "            \"drop_shortcut\": self.drop_shortcut,\n",
    "            \"drop_attention\": self.drop_attention\n",
    "        })\n",
    "\n",
    "        # Model components\n",
    "        self.embeddings = nn.Embedding(config[\"vocab_size\"], config[\"emb_dim\"])\n",
    "        self.position_embeddings = nn.Embedding(config[\"context_length\"], config[\"emb_dim\"])\n",
    "        self.transformer_blocks = nn.ModuleList([\n",
    "            TransformerBlock(config) for _ in range(config[\"n_layers\"])\n",
    "        ])\n",
    "        self.ln_f = nn.LayerNorm(config[\"emb_dim\"])\n",
    "        self.head = nn.Linear(config[\"emb_dim\"], config[\"vocab_size\"], bias=False)\n",
    "\n",
    "    def forward(self, x, targets=None):\n",
    "        b, t = x.size()\n",
    "        pos = torch.arange(0, t, dtype=torch.long, device=x.device)\n",
    "\n",
    "        # Embeddings with separate dropout\n",
    "        tok_emb = self.embeddings(x)\n",
    "        pos_emb = self.position_embeddings(pos)\n",
    "        x = tok_emb + pos_emb\n",
    "        x = F.dropout(x, p=self.drop_embed, training=self.training)\n",
    "\n",
    "        # Transformer blocks\n",
    "        for block in self.transformer_blocks:\n",
    "            x = block(x)\n",
    "\n",
    "        x = self.ln_f(x)\n",
    "\n",
    "        if targets is not None:\n",
    "            logits = self.head(x)\n",
    "            loss = F.cross_entropy(logits.view(-1, logits.size(-1)), targets.view(-1))\n",
    "            return logits, loss\n",
    "        return self.head(x)\n",
    "\n",
    "class TransformerBlock(nn.Module):\n",
    "    def __init__(self, config):\n",
    "        super().__init__()\n",
    "        self.ln1 = nn.LayerNorm(config[\"emb_dim\"])\n",
    "        self.attn = MultiHeadAttention(config)\n",
    "        self.ln2 = nn.LayerNorm(config[\"emb_dim\"])\n",
    "        self.ff = FeedForward(config)\n",
    "        self.drop_shortcut = config.get(\"drop_shortcut\", 0.1)\n",
    "\n",
    "    def forward(self, x):\n",
    "        x = x + F.dropout(self.attn(self.ln1(x)), p=self.drop_shortcut, training=self.training)\n",
    "        x = x + F.dropout(self.ff(self.ln2(x)), p=self.drop_shortcut, training=self.training)\n",
    "        return x\n",
    "\n",
    "class MultiHeadAttention(nn.Module):\n",
    "    def __init__(self, config):\n",
    "        super().__init__()\n",
    "        self.emb_dim = config[\"emb_dim\"]\n",
    "        self.n_heads = config[\"n_heads\"]\n",
    "        self.head_dim = self.emb_dim // self.n_heads\n",
    "\n",
    "        self.qkv = nn.Linear(self.emb_dim, 3 * self.emb_dim, bias=config[\"qkv_bias\"])\n",
    "        self.proj = nn.Linear(self.emb_dim, self.emb_dim)\n",
    "        self.drop_attention = config.get(\"drop_attention\", 0.1)\n",
    "        self.dropout = nn.Dropout(self.drop_attention)\n",
    "\n",
    "    def forward(self, x):\n",
    "        B, T, C = x.shape\n",
    "        qkv = self.qkv(x).split(self.emb_dim, dim=2)\n",
    "        q, k, v = [y.view(B, T, self.n_heads, self.head_dim).transpose(1, 2) for y in qkv]\n",
    "\n",
    "        attn = (q @ k.transpose(-2, -1)) * (1.0 / torch.sqrt(torch.tensor(self.head_dim)))\n",
    "        attn = F.softmax(attn, dim=-1)\n",
    "        attn = self.dropout(attn)\n",
    "\n",
    "        y = (attn @ v).transpose(1, 2).contiguous().view(B, T, C)\n",
    "        return self.proj(y)\n",
    "\n",
    "class FeedForward(nn.Module):\n",
    "    def __init__(self, config):\n",
    "        super().__init__()\n",
    "        self.net = nn.Sequential(\n",
    "            nn.Linear(config[\"emb_dim\"], 4 * config[\"emb_dim\"]),\n",
    "            nn.GELU(),\n",
    "            nn.Linear(4 * config[\"emb_dim\"], config[\"emb_dim\"]),\n",
    "        )\n",
    "\n",
    "    def forward(self, x):\n",
    "        return self.net(x)\n",
    "\n",
    "# Example usage\n",
    "config = {\n",
    "    \"vocab_size\": 50257,\n",
    "    \"context_length\": 1024,\n",
    "    \"emb_dim\": 768,\n",
    "    \"n_heads\": 12,\n",
    "    \"n_layers\": 12,\n",
    "    \"drop_embed\": 0.1,\n",
    "    \"drop_shortcut\": 0.1,\n",
    "    \"drop_attention\": 0.1,\n",
    "    \"qkv_bias\": False\n",
    "}\n",
    "\n",
    "model = GPTModel(config)\n",
    "print(\"Model with separate dropout rates created successfully!\")"
   ],
   "id": "1ba359f83b6e723b",
   "outputs": [
    {
     "name": "stdout",
     "output_type": "stream",
     "text": [
      "Model with separate dropout rates created successfully!\n"
     ]
    }
   ],
   "execution_count": 6
  }
 ],
 "metadata": {
  "kernelspec": {
   "display_name": "Python 3",
   "language": "python",
   "name": "python3"
  },
  "language_info": {
   "codemirror_mode": {
    "name": "ipython",
    "version": 2
   },
   "file_extension": ".py",
   "mimetype": "text/x-python",
   "name": "python",
   "nbconvert_exporter": "python",
   "pygments_lexer": "ipython2",
   "version": "2.7.6"
  }
 },
 "nbformat": 4,
 "nbformat_minor": 5
}
