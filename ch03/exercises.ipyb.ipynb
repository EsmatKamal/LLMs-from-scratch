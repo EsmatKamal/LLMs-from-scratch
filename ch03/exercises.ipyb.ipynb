{
 "cells": [
  {
   "cell_type": "code",
   "id": "initial_id",
   "metadata": {
    "collapsed": true,
    "ExecuteTime": {
     "end_time": "2025-04-03T13:40:55.970024Z",
     "start_time": "2025-04-03T13:40:51.827222Z"
    }
   },
   "source": [
    "from importlib.metadata import version\n",
    "\n",
    "import torch\n",
    "print(\"torch version:\", version(\"torch\"))"
   ],
   "outputs": [
    {
     "name": "stdout",
     "output_type": "stream",
     "text": [
      "torch version: 2.6.0\n"
     ]
    }
   ],
   "execution_count": 1
  },
  {
   "metadata": {
    "ExecuteTime": {
     "end_time": "2025-04-03T13:44:21.892437Z",
     "start_time": "2025-04-03T13:44:21.888727Z"
    }
   },
   "cell_type": "code",
   "source": "#Exercise 3.1",
   "id": "f365ef64368a0cb9",
   "outputs": [],
   "execution_count": 2
  },
  {
   "metadata": {
    "ExecuteTime": {
     "end_time": "2025-04-03T13:44:23.191969Z",
     "start_time": "2025-04-03T13:44:23.164885Z"
    }
   },
   "cell_type": "code",
   "source": [
    "inputs = torch.tensor(\n",
    "  [[0.43, 0.15, 0.89], # Your     (x^1)\n",
    "   [0.55, 0.87, 0.66], # journey  (x^2)\n",
    "   [0.57, 0.85, 0.64], # starts   (x^3)\n",
    "   [0.22, 0.58, 0.33], # with     (x^4)\n",
    "   [0.77, 0.25, 0.10], # one      (x^5)\n",
    "   [0.05, 0.80, 0.55]] # step     (x^6)\n",
    ")\n",
    "\n",
    "d_in, d_out = 3, 2"
   ],
   "id": "423196e4e87100b5",
   "outputs": [],
   "execution_count": 3
  },
  {
   "metadata": {
    "ExecuteTime": {
     "end_time": "2025-04-03T13:44:24.578406Z",
     "start_time": "2025-04-03T13:44:24.519550Z"
    }
   },
   "cell_type": "code",
   "source": [
    "import torch.nn as nn\n",
    "\n",
    "\n",
    "class SelfAttention_v1(nn.Module):\n",
    "\n",
    " def __init__(self, d_in, d_out):\n",
    "  super().__init__()\n",
    "  self.d_out = d_out\n",
    "  self.W_query = nn.Parameter(torch.rand(d_in, d_out))\n",
    "  self.W_key = nn.Parameter(torch.rand(d_in, d_out))\n",
    "  self.W_value = nn.Parameter(torch.rand(d_in, d_out))\n",
    "\n",
    " def forward(self, x):\n",
    "  keys = x @ self.W_key\n",
    "  queries = x @ self.W_query\n",
    "  values = x @ self.W_value\n",
    "\n",
    "  attn_scores = queries @ keys.T  # omega\n",
    "  attn_weights = torch.softmax(attn_scores / keys.shape[-1] ** 0.5, dim=-1)\n",
    "\n",
    "  context_vec = attn_weights @ values\n",
    "  return context_vec\n",
    "\n",
    "\n",
    "torch.manual_seed(123)\n",
    "sa_v1 = SelfAttention_v1(d_in, d_out)\n"
   ],
   "id": "7f2364d4cf884b9",
   "outputs": [],
   "execution_count": 4
  },
  {
   "metadata": {
    "ExecuteTime": {
     "end_time": "2025-04-03T13:44:28.972780Z",
     "start_time": "2025-04-03T13:44:28.966458Z"
    }
   },
   "cell_type": "code",
   "source": [
    "class SelfAttention_v2(nn.Module):\n",
    "\n",
    "    def __init__(self, d_in, d_out):\n",
    "        super().__init__()\n",
    "        self.d_out = d_out\n",
    "        self.W_query = nn.Linear(d_in, d_out, bias=False)\n",
    "        self.W_key   = nn.Linear(d_in, d_out, bias=False)\n",
    "        self.W_value = nn.Linear(d_in, d_out, bias=False)\n",
    "\n",
    "    def forward(self, x):\n",
    "        keys = self.W_key(x)\n",
    "        queries = self.W_query(x)\n",
    "        values = self.W_value(x)\n",
    "\n",
    "        attn_scores = queries @ keys.T\n",
    "        attn_weights = torch.softmax(attn_scores / keys.shape[-1]**0.5, dim=1)\n",
    "\n",
    "        context_vec = attn_weights @ values\n",
    "        return context_vec\n",
    "\n",
    "torch.manual_seed(123)\n",
    "sa_v2 = SelfAttention_v2(d_in, d_out)"
   ],
   "id": "5ffc2a736972eb51",
   "outputs": [],
   "execution_count": 6
  },
  {
   "metadata": {
    "ExecuteTime": {
     "end_time": "2025-04-03T13:44:31.006861Z",
     "start_time": "2025-04-03T13:44:30.991716Z"
    }
   },
   "cell_type": "code",
   "source": [
    "sa_v1.W_query = torch.nn.Parameter(sa_v2.W_query.weight.T)\n",
    "sa_v1.W_key = torch.nn.Parameter(sa_v2.W_key.weight.T)\n",
    "sa_v1.W_value = torch.nn.Parameter(sa_v2.W_value.weight.T)"
   ],
   "id": "9dfd87ad5253be3f",
   "outputs": [],
   "execution_count": 7
  },
  {
   "metadata": {
    "ExecuteTime": {
     "end_time": "2025-04-03T13:44:32.428779Z",
     "start_time": "2025-04-03T13:44:32.391336Z"
    }
   },
   "cell_type": "code",
   "source": "sa_v1(inputs)",
   "id": "5812e32b5edd824b",
   "outputs": [
    {
     "data": {
      "text/plain": [
       "tensor([[-0.5337, -0.1051],\n",
       "        [-0.5323, -0.1080],\n",
       "        [-0.5323, -0.1079],\n",
       "        [-0.5297, -0.1076],\n",
       "        [-0.5311, -0.1066],\n",
       "        [-0.5299, -0.1081]], grad_fn=<MmBackward0>)"
      ]
     },
     "execution_count": 8,
     "metadata": {},
     "output_type": "execute_result"
    }
   ],
   "execution_count": 8
  },
  {
   "metadata": {
    "ExecuteTime": {
     "end_time": "2025-04-03T13:44:44.458483Z",
     "start_time": "2025-04-03T13:44:44.446822Z"
    }
   },
   "cell_type": "code",
   "source": "sa_v2(inputs)",
   "id": "597ab49e2794c3dc",
   "outputs": [
    {
     "data": {
      "text/plain": [
       "tensor([[-0.5337, -0.1051],\n",
       "        [-0.5323, -0.1080],\n",
       "        [-0.5323, -0.1079],\n",
       "        [-0.5297, -0.1076],\n",
       "        [-0.5311, -0.1066],\n",
       "        [-0.5299, -0.1081]], grad_fn=<MmBackward0>)"
      ]
     },
     "execution_count": 9,
     "metadata": {},
     "output_type": "execute_result"
    }
   ],
   "execution_count": 9
  },
  {
   "metadata": {},
   "cell_type": "code",
   "outputs": [],
   "execution_count": null,
   "source": "#Exercise 3.2",
   "id": "90d2ff385903a68b"
  },
  {
   "metadata": {
    "ExecuteTime": {
     "end_time": "2025-04-03T14:15:02.767280Z",
     "start_time": "2025-04-03T14:15:02.759281Z"
    }
   },
   "cell_type": "code",
   "source": [
    "torch.manual_seed(123)\n",
    "\n",
    "d_out = 1\n",
    "mha = MultiHeadAttentionWrapper(d_in, d_out, context_length, 0.0, num_heads=2)\n",
    "\n",
    "context_vecs = mha(batch)\n",
    "\n",
    "print(context_vecs)\n",
    "print(\"context_vecs.shape:\", context_vecs.shape)"
   ],
   "id": "f3494c3713c75c51",
   "outputs": [],
   "execution_count": 41
  },
  {
   "metadata": {},
   "cell_type": "code",
   "outputs": [],
   "execution_count": null,
   "source": "#Exercise 3.3",
   "id": "f7224d7d65ebf0fd"
  },
  {
   "metadata": {
    "ExecuteTime": {
     "end_time": "2025-04-03T14:16:59.121678Z",
     "start_time": "2025-04-03T14:16:59.074929Z"
    }
   },
   "cell_type": "code",
   "source": [
    "\n",
    "context_length = 1024\n",
    "d_in, d_out = 768, 768\n",
    "num_heads = 12\n",
    "\n",
    "mha = MultiHeadAttention(d_in, d_out, context_length, 0.0, num_heads)"
   ],
   "id": "d0b503a8d943c9c3",
   "outputs": [
    {
     "ename": "NameError",
     "evalue": "name 'MultiHeadAttention' is not defined",
     "output_type": "error",
     "traceback": [
      "\u001B[31m---------------------------------------------------------------------------\u001B[39m",
      "\u001B[31mNameError\u001B[39m                                 Traceback (most recent call last)",
      "\u001B[36mCell\u001B[39m\u001B[36m \u001B[39m\u001B[32mIn[46]\u001B[39m\u001B[32m, line 5\u001B[39m\n\u001B[32m      2\u001B[39m d_in, d_out = \u001B[32m768\u001B[39m, \u001B[32m768\u001B[39m\n\u001B[32m      3\u001B[39m num_heads = \u001B[32m12\u001B[39m\n\u001B[32m----> \u001B[39m\u001B[32m5\u001B[39m mha = \u001B[43mMultiHeadAttention\u001B[49m(d_in, d_out, context_length, \u001B[32m0.0\u001B[39m, num_heads)\n",
      "\u001B[31mNameError\u001B[39m: name 'MultiHeadAttention' is not defined"
     ]
    }
   ],
   "execution_count": 46
  },
  {
   "metadata": {
    "ExecuteTime": {
     "end_time": "2025-04-03T14:07:53.590577Z",
     "start_time": "2025-04-03T14:07:53.567310Z"
    }
   },
   "cell_type": "code",
   "source": [
    "\n",
    "def count_parameters(model):\n",
    "    return sum(p.numel() for p in model.parameters() if p.requires_grad)\n",
    "\n",
    "count_parameters(mha)"
   ],
   "id": "54c9a40ecacfb018",
   "outputs": [
    {
     "ename": "NameError",
     "evalue": "name 'mha' is not defined",
     "output_type": "error",
     "traceback": [
      "\u001B[31m---------------------------------------------------------------------------\u001B[39m",
      "\u001B[31mNameError\u001B[39m                                 Traceback (most recent call last)",
      "\u001B[36mCell\u001B[39m\u001B[36m \u001B[39m\u001B[32mIn[39]\u001B[39m\u001B[32m, line 4\u001B[39m\n\u001B[32m      1\u001B[39m \u001B[38;5;28;01mdef\u001B[39;00m\u001B[38;5;250m \u001B[39m\u001B[34mcount_parameters\u001B[39m(model):\n\u001B[32m      2\u001B[39m     \u001B[38;5;28;01mreturn\u001B[39;00m \u001B[38;5;28msum\u001B[39m(p.numel() \u001B[38;5;28;01mfor\u001B[39;00m p \u001B[38;5;129;01min\u001B[39;00m model.parameters() \u001B[38;5;28;01mif\u001B[39;00m p.requires_grad)\n\u001B[32m----> \u001B[39m\u001B[32m4\u001B[39m count_parameters(\u001B[43mmha\u001B[49m)\n",
      "\u001B[31mNameError\u001B[39m: name 'mha' is not defined"
     ]
    }
   ],
   "execution_count": 39
  },
  {
   "metadata": {
    "ExecuteTime": {
     "end_time": "2025-04-03T14:07:54.945540Z",
     "start_time": "2025-04-03T14:07:54.941125Z"
    }
   },
   "cell_type": "code",
   "source": "2360064  # (2.36 M)",
   "id": "73df69f053494270",
   "outputs": [
    {
     "data": {
      "text/plain": [
       "2360064"
      ]
     },
     "execution_count": 40,
     "metadata": {},
     "output_type": "execute_result"
    }
   ],
   "execution_count": 40
  }
 ],
 "metadata": {
  "kernelspec": {
   "display_name": "Python 3",
   "language": "python",
   "name": "python3"
  },
  "language_info": {
   "codemirror_mode": {
    "name": "ipython",
    "version": 2
   },
   "file_extension": ".py",
   "mimetype": "text/x-python",
   "name": "python",
   "nbconvert_exporter": "python",
   "pygments_lexer": "ipython2",
   "version": "2.7.6"
  }
 },
 "nbformat": 4,
 "nbformat_minor": 5
}
